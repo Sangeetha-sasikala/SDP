{
  "nbformat": 4,
  "nbformat_minor": 0,
  "metadata": {
    "colab": {
      "provenance": [],
      "toc_visible": true,
      "authorship_tag": "ABX9TyNXtbViVlGXts9zS/vB5U7j",
      "include_colab_link": true
    },
    "kernelspec": {
      "name": "python3",
      "display_name": "Python 3"
    },
    "language_info": {
      "name": "python"
    }
  },
  "cells": [
    {
      "cell_type": "markdown",
      "metadata": {
        "id": "view-in-github",
        "colab_type": "text"
      },
      "source": [
        "<a href=\"https://colab.research.google.com/github/Sangeetha-sasikala/SDP/blob/main/Untitled0.ipynb\" target=\"_parent\"><img src=\"https://colab.research.google.com/assets/colab-badge.svg\" alt=\"Open In Colab\"/></a>"
      ]
    },
    {
      "cell_type": "code",
      "execution_count": 1,
      "metadata": {
        "id": "2S9Qw8NrmIVb"
      },
      "outputs": [],
      "source": [
        "a=10\n"
      ]
    },
    {
      "cell_type": "code",
      "source": [
        "a\n"
      ],
      "metadata": {
        "colab": {
          "base_uri": "https://localhost:8080/"
        },
        "id": "xhq7_ZcvoMn8",
        "outputId": "3784e1b1-3f55-45d4-d164-d6d70b258243"
      },
      "execution_count": 2,
      "outputs": [
        {
          "output_type": "execute_result",
          "data": {
            "text/plain": [
              "10"
            ]
          },
          "metadata": {},
          "execution_count": 2
        }
      ]
    },
    {
      "cell_type": "code",
      "source": [
        "class Solution:\n",
        "    def solve(self, board):\n",
        "        # Create a dictionary to store states and their corresponding step count\n",
        "        dict = {}\n",
        "\n",
        "        # Flatten the board and convert it to a tuple for immutability and hashing\n",
        "        flatten = []\n",
        "        for i in range(len(board)):\n",
        "            flatten += board[i]\n",
        "        flatten = tuple(flatten)\n",
        "\n",
        "        # Initialize the dictionary with the initial state\n",
        "        dict[flatten] = 0\n",
        "\n",
        "        # Check if the board is already in the solved state\n",
        "        if flatten == (0, 1, 2, 3, 4, 5, 6, 7, 8):\n",
        "            return 0\n",
        "\n",
        "        # Start BFS to find the shortest path to the solution\n",
        "        return self.get_paths(dict)\n",
        "\n",
        "    def get_paths(self, dict):\n",
        "        # Initialize the step count\n",
        "        cnt = 0\n",
        "\n",
        "        # Perform BFS\n",
        "        while True:\n",
        "            # Find all nodes at the current step level\n",
        "            current_nodes = [x for x in dict if dict[x] == cnt]\n",
        "\n",
        "            # If no nodes at the current step level, return -1 (no solution found)\n",
        "            if len(current_nodes) == 0:\n",
        "                return -1\n",
        "\n",
        "            # Process each node at the current step level\n",
        "            for node in current_nodes:\n",
        "                # Find the possible next moves from the current node\n",
        "                next_moves = self.find_next(node)\n",
        "\n",
        "                # For each valid move, update the dictionary with the new node and its step count\n",
        "                for move in next_moves:\n",
        "                    if move not in dict:\n",
        "                        dict[move] = cnt + 1\n",
        "                        # If the move is the solved state, return the step count\n",
        "                        if move == (0, 1, 2, 3, 4, 5, 6, 7, 8):\n",
        "                            return cnt + 1\n",
        "            # Increment the step count\n",
        "            cnt += 1\n",
        "\n",
        "    def find_next(self, node):\n",
        "        # Define the valid moves for each position in the board\n",
        "        moves = {\n",
        "            0: [1, 3],\n",
        "            1: [0, 2, 4],\n",
        "            2: [1, 5],\n",
        "            3: [0, 4, 6],\n",
        "            4: [1, 3, 5, 7],\n",
        "            5: [2, 4, 8],\n",
        "            6: [3, 7],\n",
        "            7: [4, 6, 8],\n",
        "            8: [5, 7],\n",
        "        }\n",
        "\n",
        "        results = []\n",
        "        # Find the position of 0 in the current node (board state)\n",
        "        pos_0 = node.index(0)\n",
        "\n",
        "        # For each valid move from the current position of 0, create a new board state\n",
        "        for move in moves[pos_0]:\n",
        "            # Swap the 0 with the target position to generate a new state\n",
        "            new_node = list(node)\n",
        "            new_node[move], new_node[pos_0] = new_node[pos_0], new_node[move]\n",
        "            results.append(tuple(new_node))  # Append the new state to the results list\n",
        "\n",
        "        return results\n",
        "\n",
        "# Create an instance of Solution and test the function\n",
        "ob = Solution()\n",
        "matrix = [\n",
        "    [3, 1, 2],\n",
        "    [4, 7, 5],\n",
        "    [6, 8, 0]\n",
        "]\n",
        "print(ob.solve(matrix))\n"
      ],
      "metadata": {
        "colab": {
          "base_uri": "https://localhost:8080/"
        },
        "id": "HyQCI23MoOM6",
        "outputId": "dbe85800-edc2-48bf-e2fc-791178c00ce8"
      },
      "execution_count": 3,
      "outputs": [
        {
          "output_type": "stream",
          "name": "stdout",
          "text": [
            "4\n"
          ]
        }
      ]
    },
    {
      "cell_type": "code",
      "source": [],
      "metadata": {
        "id": "pV5ApxyFq0D9"
      },
      "execution_count": null,
      "outputs": []
    }
  ]
}